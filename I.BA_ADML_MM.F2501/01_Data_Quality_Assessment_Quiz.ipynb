{
  "metadata": {
    "kernelspec": {
      "name": "python",
      "display_name": "Python (Pyodide)",
      "language": "python"
    },
    "language_info": {
      "codemirror_mode": {
        "name": "python",
        "version": 3
      },
      "file_extension": ".py",
      "mimetype": "text/x-python",
      "name": "python",
      "nbconvert_exporter": "python",
      "pygments_lexer": "ipython3",
      "version": "3.8"
    }
  },
  "nbformat_minor": 5,
  "nbformat": 4,
  "cells": [
    {
      "id": "7e684e50-173b-4a96-b158-e54c3cf21962",
      "cell_type": "code",
      "source": "import numpy as np",
      "metadata": {
        "trusted": true
      },
      "outputs": [],
      "execution_count": 1
    },
    {
      "id": "0113e9d7-b7df-40b4-a164-ef2c0288d2de",
      "cell_type": "code",
      "source": "data = [5, -1, -1, 0, 9, 4, 2, 8, -7, -5]\ndata = np.array(data)\n\nmean = np.mean(data)\nmedian = np.median(data)\npopulation_variance = np.var(data)\nsample_variance = np.var(data, ddof=1)\nstd_dev_population = np.std(data)\nq75, q25 = np.percentile(data, [75, 25])\niqr = q75 - q25\n\nprint(f\"Mean: {mean:.2f}\")\nprint(f\"Median: {median:.2f}\")\nprint(f\"Population Variance: {population_variance:.2f}\")\nprint(f\"Sample Variance: {sample_variance:.2f}\")\nprint(f\"Standard Deviation (Population): {std_dev_population:.2f}\")\nprint(f\"IQR: {iqr:.2f}\")",
      "metadata": {
        "trusted": true
      },
      "outputs": [
        {
          "name": "stdout",
          "output_type": "stream",
          "text": "Mean: 1.40\nMedian: 1.00\nPopulation Variance: 24.64\nSample Variance: 27.38\nStandard Deviation (Population): 4.96\nIQR: 5.75\n"
        }
      ],
      "execution_count": 2
    },
    {
      "id": "4d956b36-cb67-4664-8c9e-100f2fc96f91",
      "cell_type": "code",
      "source": "# Define the data\nA = np.array([5, -1, -1, 0, 9, 4, 2, 8, -7, -5])\nB = np.array([2, 1, -1, 4, 6, 6, -2, 9, -5, -5])\n\n# Calculate sample covariance\n# np.cov returns a covariance matrix, we use [0, 1] to get the covariance between A and B\ncovariance = np.cov(A, B, ddof=1)[0, 1]\n\n# Print rounded to 2 decimal places\nprint(f\"Sample Covariance between A and B: {covariance:.2f}\")",
      "metadata": {
        "trusted": true
      },
      "outputs": [
        {
          "name": "stdout",
          "output_type": "stream",
          "text": "Sample Covariance between A and B: 21.67\n"
        }
      ],
      "execution_count": 5
    },
    {
      "id": "379fd877-1830-4ffe-b4e2-7aa1a458c991",
      "cell_type": "code",
      "source": "",
      "metadata": {
        "trusted": true
      },
      "outputs": [],
      "execution_count": null
    }
  ]
}
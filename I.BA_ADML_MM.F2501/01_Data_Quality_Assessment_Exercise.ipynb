{
  "metadata": {
    "kernelspec": {
      "name": "python",
      "display_name": "Python (Pyodide)",
      "language": "python"
    },
    "language_info": {
      "codemirror_mode": {
        "name": "python",
        "version": 3
      },
      "file_extension": ".py",
      "mimetype": "text/x-python",
      "name": "python",
      "nbconvert_exporter": "python",
      "pygments_lexer": "ipython3",
      "version": "3.8"
    }
  },
  "nbformat_minor": 5,
  "nbformat": 4,
  "cells": [
    {
      "id": "7d30decd-109f-4630-b282-6ed19c5c4ad8",
      "cell_type": "code",
      "source": "import pandas as pd\nimport seaborn as sns\nimport matplotlib.pyplot as plt\n\nimport warnings\nwarnings.filterwarnings(\"ignore\", category=FutureWarning)\n\nsns.set()\n\n# Load data set\ndf = pd.read_csv(\"sgv.csv\", sep=\";\")\n\n# Verify shape is what it should be (cols, rows)\ndf.shape\n\n# Display first 5 rows\ndf.head(n=5)\n\n# Date defined in 3 seperarate cols -> merge into one\ndf['Date'] = df['Month'].astype(str) + '-' + df['Day_in_Month'].astype(str) + '-' + df['Year'].astype(str)\ndf['Date'] = pd.to_datetime(df['Date'], errors='coerce')\ndf.head()\n\n# Print data type of each column\ndf.dtypes\n\n# Encode Month and Day as categorical\ndf.Month = df.Month.astype('category')\ndf.Day = df.Day.astype('category')\ndf.dtypes\n\n# Check for duplicates -> returns true or false\ndf.duplicated().any()\n# if there were duplicates, display like this:\ndf[df.duplicated(keep=False)].head(n=10)\n# and drop duplicates like this:\ndf.drop_duplicates(inplace=True)\n\n# Check if there are NULL values\ndf.isna().any()\n# or do `df.isna().any().any()` to get a true or false\ndf.isna().any().any()\n# Replace null values with the mean value for each columns\ndf = df.fillna(df.mean())\n\n# Examine minimum and maximum values and more stats (mean, std, quartils, count):\ndf.describe()\n# update statements where some maximum seems wrong to a correct maximum (sunshine_percentage > 100 to 100)\ndf[\"Sunshine_Percentage\"].values[df[\"Sunshine_Percentage\"] > 100] = 100\n\n# Plot the data\nfig, ax = plt.subplots(figsize=(15,5))\ndf.Passengers.plot(title=\"Passengers over time\", ax=ax)\n\n# Correlation analysis\nplt.subplots(figsize=(12, 12))\nsns.heatmap(df.corr(), annot=True, cmap='RdYlGn_r', linewidths=0.5, fmt='.2f')\n\n# Boxplot for every numerical value to take a look at outliers\nnumerical_cols = ['Passengers', 'Temperature_Midday', 'Snow_5Days', 'Wind', 'Temperature_Deviation',\n                  'Temperature_Max', 'Temperature_Min', 'Temperature_Evening', 'Precipiation', 'Precipiation_5Days']\n_ = df.loc[:, numerical_cols].plot(kind='box', subplots=True, layout=(5, 2), figsize=(10, 18), sharex=False)\n\n# Amount of passengers during revisions\ndf[(df.Revision == 1) & (df.Passengers > 0)].head()\n# Fix the error, set the passengers to 0\ndf.Passengers.values[df.Revision==1] = 0\n\n# Compare min max values to check whetever its plausible\n(df[\"Temperature_Min\"] < df[\"Temperature_Max\"]).all()\n\n# Matrix showing snow days per month per year\npd.pivot_table(df, index=[df.Date.dt.month, \"Month\"], columns=[\"Year\"], values=[\"Snow_5Days\"])\n# Fix the error we created by recplacing null values with mean\ndf.Snow_5Days.values[df.Month.isin([\"June\", \"July\", \"August\", \"September\", \"October\"])] = 0\n\n# Automatic Data Quality Assessment with Pandas Profiling\nimport pandas_profiling\ndf2 = pd.read_csv(\"sgv.csv\", sep=\";\")\nprofile = df2.profile_report(html={'style':{'full_width':True}})\n# Save report uncomment line below, if you want to save the report\n#profile.to_file(output_file=\"sgv-profile.html\")\nprofile\n\n# How many passengers in january 2006?\njan_2006 = df[(df['Date'].dt.year == 2006) & (df['Date'].dt.month == 1)]\ntotal_passengers = jan_2006['Passengers'].sum()\nprint(f\"Total passengers in January 2006: {total_passengers}\")\n\n# Correlation of passengers and revisions\ncorrelation = df['Passengers'].corr(df['Revision'])\nprint(f\"Korrelation: {correlation}\")\n",
      "metadata": {
        "trusted": true
      },
      "outputs": [],
      "execution_count": null
    }
  ]
}
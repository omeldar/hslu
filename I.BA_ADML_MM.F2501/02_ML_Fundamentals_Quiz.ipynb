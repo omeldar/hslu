{
  "metadata": {
    "kernelspec": {
      "name": "python",
      "display_name": "Python (Pyodide)",
      "language": "python"
    },
    "language_info": {
      "codemirror_mode": {
        "name": "python",
        "version": 3
      },
      "file_extension": ".py",
      "mimetype": "text/x-python",
      "name": "python",
      "nbconvert_exporter": "python",
      "pygments_lexer": "ipython3",
      "version": "3.8"
    }
  },
  "nbformat_minor": 5,
  "nbformat": 4,
  "cells": [
    {
      "id": "e1de6f40-11ce-4143-ac63-f4610d84485c",
      "cell_type": "code",
      "source": "import numpy as np\nfrom scipy.spatial.distance import euclidean, cityblock, cosine\n\n# Define the vectors\nA = np.array([ 3, -1, 9, -2])\nB = np.array([-2,  6, 4, -5])\n\n# Euclidean distance\neuclidean_dist = euclidean(A, B)\n\n# Cosine similarity = 1 - cosine distance\ncosine_sim = 1 - cosine(A, B)\n\n# Manhattan distance\nmanhattan_dist = cityblock(A, B)\n\neuclidean_dist, cosine_sim, manhattan_dist\n",
      "metadata": {
        "trusted": true
      },
      "outputs": [
        {
          "execution_count": 2,
          "output_type": "execute_result",
          "data": {
            "text/plain": "(np.float64(10.392304845413264), np.float64(0.3875918218988359), np.int32(20))"
          },
          "metadata": {}
        }
      ],
      "execution_count": 2
    },
    {
      "id": "aadba797-31fe-46b3-b6bb-6e52559131a4",
      "cell_type": "code",
      "source": "",
      "metadata": {
        "trusted": true
      },
      "outputs": [],
      "execution_count": null
    }
  ]
}
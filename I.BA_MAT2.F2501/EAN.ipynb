{
  "cells": [
    {
      "cell_type": "code",
      "source": [
        "def ean_valid(ean):\n",
        "\n",
        "  ean_to_check = ean\n",
        "  print(f\"Prüfe EAN: {ean_to_check}\")\n",
        "\n",
        "  number_part = ean_to_check[:12]\n",
        "\n",
        "  given_check_digit = int(ean_to_check[12])\n",
        "\n",
        "  summe = 0\n",
        "\n",
        "  for i in range(len(number_part)):\n",
        "      if i % 2 == 0:\n",
        "          summe += int(number_part[i]) * 1\n",
        "      else:\n",
        "          summe += int(number_part[i]) * 3\n",
        "\n",
        "  calculated_check_digit = (10 - summe % 10) % 10\n",
        "\n",
        "  print(f\"Gegebene Prüfsumme: {given_check_digit}\")\n",
        "  print(f\"Berechnete Prüfsumme: {calculated_check_digit}\")\n",
        "\n",
        "  if given_check_digit == calculated_check_digit:\n",
        "      print(\"Ergebnis: EAN ist korrekt.\")\n",
        "  else:\n",
        "      print(\"Ergebnis: EAN ist fehlerhaft.\")\n",
        "\n",
        "  print(\"-\" * 20)"
      ],
      "metadata": {
        "id": "1g9_qcjzfDR8"
      },
      "execution_count": null,
      "outputs": []
    },
    {
      "cell_type": "code",
      "source": [
        "# Mit Rechenweg\n",
        "number = \"400763523123\"\n",
        "\n",
        "print(number)\n",
        "\n",
        "rechenweg = \"0\"\n",
        "sum = 0\n",
        "\n",
        "for i in range(len(number)):\n",
        "    if i % 2 == 0:\n",
        "        sum += int(number[i] ) * 3\n",
        "        rechenweg += \" + \" + str(int(number[i] ) * 3)\n",
        "    else:\n",
        "        sum += int(number[i] ) * 1\n",
        "        rechenweg += \" + \" + str(int(number[i] ) * 1)\n",
        "\n",
        "rechenweg += \" = \" + str(sum)\n",
        "print(rechenweg)\n",
        "\n",
        "ean_sn = 10 - sum % 10\n",
        "print(f\"10 - {sum} % 10 = {ean_sn}\")\n",
        "\n",
        "full_ean = number + str(ean_sn)\n",
        "\n",
        "print(full_ean)"
      ],
      "outputs": [
        {
          "output_type": "stream",
          "name": "stdout",
          "text": [
            "400763523123\n",
            "0 + 12 + 0 + 0 + 7 + 18 + 3 + 15 + 2 + 9 + 1 + 6 + 3 = 76\n",
            "10 - 76 % 10 = 4\n",
            "4007635231234\n"
          ]
        }
      ],
      "execution_count": null,
      "metadata": {
        "colab": {
          "base_uri": "https://localhost:8080/"
        },
        "id": "1vHoSx41XXHy",
        "outputId": "45283e68-74d2-4d8d-edef-52724be96567"
      }
    },
    {
      "cell_type": "code",
      "source": [
        "# --- 3. Fehler finden & korrigieren (BruteForce) ---\n",
        "wrong_ean = \"4007635001836\"\n",
        "\n",
        "print(f\"Fehlerhafte EAN: {wrong_ean}\")\n",
        "\n",
        "found = False\n",
        "\n",
        "for i in range(len(wrong_ean)):\n",
        "\n",
        "    original_char = wrong_ean[i]\n",
        "\n",
        "    for j in range(10):\n",
        "\n",
        "        if int(original_char) == j:\n",
        "            continue\n",
        "\n",
        "        temp_list = list(wrong_ean)\n",
        "        temp_list[i] = str(j)\n",
        "        temp_ean = \"\".join(temp_list)\n",
        "\n",
        "        number_part = temp_ean[:12]\n",
        "        check_digit = int(temp_ean[12])\n",
        "\n",
        "        summe = 0\n",
        "        for k in range(len(number_part)):\n",
        "            if k % 2 == 0:\n",
        "                summe += int(number_part[k]) * 1\n",
        "            else:\n",
        "                summe += int(number_part[k]) * 3\n",
        "\n",
        "        calculated_check_digit = (10 - summe % 10) % 10\n",
        "\n",
        "        if check_digit == calculated_check_digit:\n",
        "            print(f\"Fehler an Position {i} gefunden: '{original_char}' sollte '{j}' sein.\")\n",
        "            print(f\"Korrekte EAN: {temp_ean}\")\n",
        "            found = True\n",
        "            break\n",
        "    if found:\n",
        "        break\n",
        "\n",
        "if not found:\n",
        "    print(\"Konnte keinen Einzelfehler finden.\")\n",
        "print(\"-\" * 20)"
      ],
      "metadata": {
        "colab": {
          "base_uri": "https://localhost:8080/"
        },
        "id": "u-cqrkFhct-c",
        "outputId": "8df67977-2a3c-4ee4-fc68-1a56850aac7d"
      },
      "execution_count": null,
      "outputs": [
        {
          "output_type": "stream",
          "name": "stdout",
          "text": [
            "Fehlerhafte EAN: 4007635001836\n",
            "Fehler an Position 0 gefunden: '4' sollte '3' sein.\n",
            "Korrekte EAN: 3007635001836\n",
            "--------------------\n"
          ]
        }
      ]
    },
    {
      "cell_type": "code",
      "source": [
        "wrong_ean = \"4007635001836\"\n",
        "\n",
        "digits = [int(d) for d in wrong_ean]\n",
        "\n",
        "summe = 0\n",
        "for i in range(len(wrong_ean)):\n",
        "    weight = 1 if i % 2 == 0 else 3\n",
        "    summe += digits[i] * weight\n",
        "\n",
        "fehlerwert = summe % 10\n",
        "\n",
        "if fehlerwert == 0:\n",
        "    print(\"EAN korrekt.\")\n",
        "\n",
        "print(\"Fehlerwert: \", fehlerwert)\n",
        "\n",
        "delta_s = (10 - fehlerwert) % 10\n",
        "\n",
        "delta_d_w1 = delta_s\n",
        "delta_d_w3 = (delta_s * 7) % 10\n",
        "\n",
        "print(f\"Nötige Änderung bei Gewicht 1: +{delta_d_w1}, bei Gewicht 3: +{delta_d_w3}\")\n",
        "\n",
        "korrekturen = []\n",
        "for i in range(len(wrong_ean)):\n",
        "    d_alt = digits[i]\n",
        "    gewicht = 1 if i % 2 == 0 else 3\n",
        "\n",
        "    if gewicht == 1:\n",
        "        d_neu = (d_alt + delta_d_w1) % 10\n",
        "    else:\n",
        "        d_neu = (d_alt + delta_d_w3) % 10\n",
        "\n",
        "    if d_alt != d_neu:\n",
        "        temp_list = digits[:]\n",
        "        temp_list[i] = d_neu\n",
        "        neue_ean = \"\".join(map(str, temp_list))\n",
        "        korrekturen.append(f\"Fehler an Pos: {i+1} ({d_alt} -> {d_neu}): {neue_ean}\")\n",
        "\n",
        "\n",
        "if korrekturen:\n",
        "    print(\"\\nMögliche Korrekturen gefunden:\")\n",
        "    for k in korrekturen:\n",
        "        print(k)\n",
        "else:\n",
        "    print(\"Keine Korrekturen gefunden.\")"
      ],
      "metadata": {
        "colab": {
          "base_uri": "https://localhost:8080/"
        },
        "id": "TW-bu4GYghjl",
        "outputId": "81575c2f-c458-486d-9176-cdd63f444d84"
      },
      "execution_count": null,
      "outputs": [
        {
          "output_type": "stream",
          "name": "stdout",
          "text": [
            "Fehlerwert:  1\n",
            "Nötige Änderung bei Gewicht 1: +9, bei Gewicht 3: +3\n",
            "\n",
            "Mögliche Korrekturen gefunden:\n",
            "Fehler an Pos: 1 (4 -> 3): 3007635001836\n",
            "Fehler an Pos: 2 (0 -> 3): 4307635001836\n",
            "Fehler an Pos: 3 (0 -> 9): 4097635001836\n",
            "Fehler an Pos: 4 (7 -> 0): 4000635001836\n",
            "Fehler an Pos: 5 (6 -> 5): 4007535001836\n",
            "Fehler an Pos: 6 (3 -> 6): 4007665001836\n",
            "Fehler an Pos: 7 (5 -> 4): 4007634001836\n",
            "Fehler an Pos: 8 (0 -> 3): 4007635301836\n",
            "Fehler an Pos: 9 (0 -> 9): 4007635091836\n",
            "Fehler an Pos: 10 (1 -> 4): 4007635004836\n",
            "Fehler an Pos: 11 (8 -> 7): 4007635001736\n",
            "Fehler an Pos: 12 (3 -> 6): 4007635001866\n",
            "Fehler an Pos: 13 (6 -> 5): 4007635001835\n"
          ]
        }
      ]
    },
    {
      "cell_type": "code",
      "source": [],
      "metadata": {
        "id": "Wg-B7aiOjJ0D"
      },
      "execution_count": null,
      "outputs": []
    },
    {
      "cell_type": "markdown",
      "source": [],
      "metadata": {
        "id": "lkba2DiajII2"
      }
    }
  ],
  "metadata": {
    "colab": {
      "provenance": []
    },
    "kernelspec": {
      "display_name": "Python 3",
      "name": "python3"
    }
  },
  "nbformat": 4,
  "nbformat_minor": 0
}
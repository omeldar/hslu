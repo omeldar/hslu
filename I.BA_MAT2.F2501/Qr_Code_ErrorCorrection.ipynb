{
  "cells": [
    {
      "cell_type": "code",
      "source": [
        "#!pip install reedsolo"
      ],
      "metadata": {
        "id": "NcO2hmaLJpU_"
      },
      "execution_count": 45,
      "outputs": []
    },
    {
      "cell_type": "code",
      "source": [
        "# Erforderliche Bibliotheken: Dieses Notebook benötigt keine externen Bibliotheken wie numpy.\n",
        "\n",
        "from IPython.display import display, Markdown, HTML\n",
        "import math\n",
        "\n",
        "# --- Teil 1: Die Werkzeuge - Mathematik im Galois-Körper GF(2^8) ---\n",
        "\n",
        "display(Markdown(\"## Teil 1: Galois Field GF(2^8)\"))\n",
        "display(Markdown(\"\"\"\n",
        "Normale Arithmetik funktioniert hier nicht. Alle Berechnungen mit Bytes (0-255) müssen wieder ein Ergebnis zwischen 0-255 liefern.\n",
        "\"\"\"))\n",
        "\n",
        "# Initialize the log and anti-log tables\n",
        "exp_table = [0] * 256\n",
        "log_table = [0] * 256\n",
        "primitive_polynomial = 0b100011101\n",
        "\n",
        "# Generate the tables\n",
        "x = 1\n",
        "for i in range(255):\n",
        "    exp_table[i] = x\n",
        "    log_table[x] = i\n",
        "    x <<= 1\n",
        "    if x & 0x100:\n",
        "        x ^= primitive_polynomial\n",
        "\n",
        "exp_table[255] = exp_table[0]\n",
        "\n",
        "def gf_multiply(a, b):\n",
        "    \"\"\"Multiplies two numbers in the GF(2^8) field.\"\"\"\n",
        "    if a == 0 or b == 0:\n",
        "        return 0\n",
        "    return exp_table[(log_table[a] + log_table[b]) % 255]\n",
        "\n",
        "def gf_poly_multiply(p1, p2):\n",
        "    \"\"\"Multiplies two polynomials in the GF(2^8) field.\"\"\"\n",
        "    result_len = len(p1) + len(p2) - 1\n",
        "    result = [0] * result_len\n",
        "    for i in range(len(p1)):\n",
        "        for j in range(len(p2)):\n",
        "            result[i + j] ^= gf_multiply(p1[i], p2[j])\n",
        "    return result\n",
        "\n",
        "def gf_poly_div_detailed(dividend, divisor, printb = False):\n",
        "    \"\"\"\n",
        "    Performs and displays detailed polynomial division in GF(2^8).\n",
        "    Returns the remainder.\n",
        "    \"\"\"\n",
        "    result = list(dividend)\n",
        "    divisor_len = len(divisor)\n",
        "    if printb:\n",
        "      display(Markdown(\"#### Start der Polynomdivision:\"))\n",
        "      display(Markdown(f\"**Dividend:** `{result}`\\n\\n**Divisor:** `{divisor}`\"))\n",
        "\n",
        "    for i in range(len(dividend) - divisor_len + 1):\n",
        "        coefficient = result[i]\n",
        "\n",
        "        if printb:\n",
        "          display(Markdown(f\"--- \\n### PolyDiv: Schritt {i+1}\"))\n",
        "\n",
        "        if coefficient == 0:\n",
        "            if printb:\n",
        "              display(Markdown(\"Führende Ziffer ist 0, kein Rechenschritt nötig. Wir rücken eins weiter.\"))\n",
        "            continue\n",
        "\n",
        "        term_to_subtract = [0] * i + [gf_multiply(d, coefficient) for d in divisor]\n",
        "        term_to_subtract.extend([0] * (len(result) - len(term_to_subtract)))\n",
        "\n",
        "        div_str = \"&nbsp;\".join(f\"{n:03}\" for n in result)\n",
        "        sub_str = \"&nbsp;\".join(f\"{n:03}\" for n in term_to_subtract)\n",
        "\n",
        "        if printb:\n",
        "          display(Markdown(f\"Die vorderste Ziffer ist **{coefficient}**. Wir müssen das **{coefficient}-fache des Divisors** subtrahieren (XOR).\"))\n",
        "\n",
        "        next_result = [a ^ b for a, b in zip(result, term_to_subtract)]\n",
        "        res_str = \"&nbsp;\".join(f\"{n:03}\" for n in next_result)\n",
        "\n",
        "        html_calculation = f\"\"\"\n",
        "        <div style=\"font-family: monospace; line-height: 1.6; font-size: 14px;\">\n",
        "          &nbsp;&nbsp;&nbsp;&nbsp;{div_str} (Aktueller Dividend)<br/>\n",
        "          XOR {sub_str} ({coefficient} * Divisor)<br/>\n",
        "          ------------------------------------------------------------------<br/>\n",
        "          = &nbsp;&nbsp;{res_str} (Neuer Zwischenstand)\n",
        "        </div>\n",
        "        \"\"\"\n",
        "        if printb:\n",
        "          display(HTML(html_calculation))\n",
        "\n",
        "        result = next_result\n",
        "\n",
        "    remainder = result[-(divisor_len - 1):]\n",
        "    display(Markdown(f\"--- \\n**Division beendet.**\"))\n",
        "    return remainder\n",
        "\n",
        "# --- Teil 2: Die Berechnung ---\n",
        "\n",
        "display(Markdown(\"## Teil 2: Berechnung für den Text 'HELLO'\"))\n",
        "\n",
        "# REALISTISCHES SZENARIO: Wir wählen eine QR-Code Version und einen Fehler-Level\n",
        "# Dies bestimmt die exakte Kapazität für Daten und Fehlerkorrektur-Bytes.\n",
        "# Format: (Total Data Codewords, Total Error Correction Codewords)\n",
        "QR_CAPACITY_TABLE_V1 = {\n",
        "    'L': (19, 7),\n",
        "    'M': (16, 10),\n",
        "    'Q': (13, 13),\n",
        "    'H': (9, 17)\n",
        "}\n",
        "CHOSEN_LEVEL = 'M' # Wir wählen Level Medium\n",
        "DATA_CAPACITY, num_error_bytes = QR_CAPACITY_TABLE_V1[CHOSEN_LEVEL]\n",
        "\n",
        "\n",
        "display(Markdown(f\"Wir simulieren einen **QR-Code Version 1 mit Fehler-Level '{CHOSEN_LEVEL}'**.\"))\n",
        "display(Markdown(f\"Gemäss Standard hat dieser Code Platz für **{DATA_CAPACITY} Daten-Bytes** und benötigt exakt **{num_error_bytes} Fehlerkorrektur-Bytes**.\"))\n",
        "\n",
        "\n",
        "# Schritt 1: Daten in Bytes umwandeln\n",
        "input_string = \"MAT2\"\n",
        "message_bytes = [ord(c) for c in input_string]\n",
        "display(Markdown(f\"### Schritt 1: Nachricht in Bytes umwandeln\"))\n",
        "display(Markdown(f\"'{input_string}'  => `{message_bytes}`\"))\n",
        "\n",
        "# Schritt 1.5: Füll-Bytes (Padding) hinzufügen\n",
        "display(Markdown(f\"### Schritt 1.5: Füll-Bytes (Padding) hinzufügen\"))\n",
        "display(Markdown(f\"Der Code hat Platz für **{DATA_CAPACITY}** Daten-Bytes. Unsere Nachricht hat aber nur **{len(message_bytes)}** Bytes.\"))\n",
        "display(Markdown(\"Der leere Platz wird mit standardisierten, abwechselnden Füll-Bytes (236 und 17) aufgefüllt, bis die Kapazität erreicht ist.\"))\n",
        "\n",
        "padding_bytes = []\n",
        "padding_needed = DATA_CAPACITY - len(message_bytes)\n",
        "for i in range(padding_needed):\n",
        "    if i % 2 == 0:\n",
        "        padding_bytes.append(236) # Standard-Padding-Byte 1\n",
        "    else:\n",
        "        padding_bytes.append(17)  # Standard-Padding-Byte 2\n",
        "display(Markdown(f\"Benötigte Füll-Bytes: {padding_needed} => `{padding_bytes}`\"))\n",
        "\n",
        "data_payload = message_bytes + padding_bytes\n",
        "display(Markdown(f\"**Voller Datenblock (Nachricht + Padding):** `{data_payload}`\"))\n",
        "\n",
        "# Schritt 2: Das standardisierte Generatorpolynom\n",
        "display(Markdown(f\"### Schritt 2: Das genormte Generatorpolynom laden\"))\n",
        "display(Markdown(f\"Für **{num_error_bytes}** Fehlerkorrektur-Bytes ist folgendes Generatorpolynom im Standard definiert:\"))\n",
        "\n",
        "generator_poly = [1]\n",
        "for i in range(num_error_bytes):\n",
        "    generator_poly = gf_poly_multiply(generator_poly, [1, exp_table[i]])\n",
        "display(Markdown(f\"`{generator_poly}`\"))\n",
        "\n",
        "# Schritt 3: Nachrichtenpolynom für die Division vorbereiten\n",
        "display(Markdown(f\"### Schritt 3: Nachricht für die Division vorbereiten\"))\n",
        "display(Markdown(f\"Wir hängen {num_error_bytes} Nullen an unseren **vollen Datenblock** an, um Platz für den Rest zu schaffen.\"))\n",
        "padded_message_bytes = data_payload + [0] * num_error_bytes\n",
        "display(Markdown(f\"Vorbereitete Nachricht: `{padded_message_bytes}`\"))\n",
        "\n",
        "# Schritt 4: Die Polynomdivision durchführen\n",
        "display(Markdown(f\"### Schritt 4: Die Polynomdivision\"))\n",
        "display(Markdown(\"Jetzt teilen wir den vorbereiteten, vollen Datenblock durch das Generatorpolynom.\"))\n",
        "error_correction_bytes = gf_poly_div_detailed(padded_message_bytes, generator_poly)\n",
        "\n",
        "# Schritt 5: Ergebnis\n",
        "display(Markdown(f\"### Schritt 5: Das Ergebnis\"))\n",
        "display(Markdown(f\"Der **Rest** der Division ist `{error_correction_bytes}`.\"))\n",
        "display(Markdown(f\"**Das sind unsere {num_error_bytes} Fehlerkorrektur-Bytes!**\"))\n",
        "\n",
        "final_codeword = data_payload + error_correction_bytes\n",
        "display(Markdown(f\"### Schritt 6: Die finale Nachricht für den QR-Code\"))\n",
        "display(Markdown(\"Der volle Datenblock und die Fehlerkorrektur-Bytes werden zusammengefügt.\"))\n",
        "display(Markdown(f\"**Finale Codewörter:** `{final_codeword}`\"))\n",
        "\n",
        "\n",
        "# --- Teil 3: Visualisierung der Daten (Vereinfacht) ---\n",
        "\n",
        "display(Markdown(\"## Teil 3: Vom Byte zum Bild (Vereinfachte Visualisierung)\"))\n",
        "display(Markdown(\"\"\"\n",
        "Wir wandeln jedes Byte in seine 8-Bit-Darstellung um und zeichnen für jede '1' ein farbiges Kästchen.\n",
        "\n",
        "**Wichtiger Hinweis:** Dies ist **kein scannbarer QR-Code!** Es ist nur eine simple Darstellung der reinen Daten.\n",
        "\"\"\"))\n",
        "\n",
        "# Schritt 7: Bytes in einen Bit-String umwandeln\n",
        "bit_string = \"\".join(f\"{byte:08b}\" for byte in final_codeword)\n",
        "display(Markdown(f\"### Schritt 7: Codewörter in Bits umwandeln\"))\n",
        "display(Markdown(f\"Die {len(final_codeword)} Bytes werden zu einem langen String aus {len(bit_string)} Bits:\"))\n",
        "display(Markdown(f\"<div style='word-wrap:break-word; font-family:monospace; font-size:12px;'>{bit_string}</div>\"))\n",
        "\n",
        "\n",
        "# Schritt 8: Bit-String als Gitter visualisieren\n",
        "display(Markdown(f\"### Schritt 8: Die Bits als Gitter darstellen (Daten, Padding, Fehlerkorrektur)\"))\n",
        "\n",
        "# Add a legend\n",
        "legend_html = \"\"\"\n",
        "<div style=\"margin-top: 15px; margin-bottom: 5px;\">\n",
        "    <b>Legende:</b>\n",
        "    <span style=\"display:inline-flex; align-items:center; margin-left:10px;\"><div style=\"width:15px; height:15px; background-color:black; border:1px solid #ccc; margin-right:5px;\"></div> Original-Daten (1)</span>\n",
        "    <span style=\"display:inline-flex; align-items:center; margin-left:10px;\"><div style=\"width:15px; height:15px; background-color:silver; border:1px solid #ccc; margin-right:5px;\"></div> Füll-Daten (1)</span>\n",
        "    <span style=\"display:inline-flex; align-items:center; margin-left:10px;\"><div style=\"width:15px; height:15px; background-color:crimson; border:1px solid #ccc; margin-right:5px;\"></div> Fehlerkorrektur-Bit (1)</span>\n",
        "    <span style=\"display:inline-flex; align-items:center; margin-left:10px;\"><div style=\"width:15px; height:15px; background-color:white; border:1px solid #ccc; margin-right:5px;\"></div> 0-Bit</span>\n",
        "</div>\n",
        "\"\"\"\n",
        "display(HTML(legend_html))\n",
        "\n",
        "# We know the boundaries of each data type\n",
        "num_message_bits = len(message_bytes) * 8\n",
        "num_padding_bits = len(padding_bytes) * 8\n",
        "\n",
        "total_bits = len(bit_string)\n",
        "cols = 8 # Each row is one byte\n",
        "\n",
        "html_grid = f\"<div style='display: grid; grid-template-columns: repeat({cols}, 20px); gap: 1px; border: 2px solid #333; width: fit-content; margin-top: 10px;'>\"\n",
        "for i, bit in enumerate(bit_string):\n",
        "    color = \"white\" # Default for '0' bits\n",
        "    if bit == '1':\n",
        "        if i < num_message_bits:\n",
        "            color = \"black\"  # Original message\n",
        "        elif i < num_message_bits + num_padding_bits:\n",
        "            color = \"silver\" # Padding bytes\n",
        "        else:\n",
        "            color = \"crimson\" # Error correction bytes\n",
        "\n",
        "    html_grid += f\"<div style='width: 20px; height: 20px; background-color: {color};'></div>\"\n",
        "html_grid += \"</div>\"\n",
        "\n",
        "display(HTML(html_grid))\n"
      ],
      "outputs": [
        {
          "output_type": "display_data",
          "data": {
            "text/plain": [
              "<IPython.core.display.Markdown object>"
            ],
            "text/markdown": "# Schritt-für-Schritt-Berechnung der QR-Code-Fehlerkorrektur (Detailliert)"
          },
          "metadata": {}
        },
        {
          "output_type": "display_data",
          "data": {
            "text/plain": [
              "<IPython.core.display.Markdown object>"
            ],
            "text/markdown": "## Teil 1: Galois Field GF(2^8)"
          },
          "metadata": {}
        },
        {
          "output_type": "display_data",
          "data": {
            "text/plain": [
              "<IPython.core.display.Markdown object>"
            ],
            "text/markdown": "\nNormale Arithmetik funktioniert hier nicht. Alle Berechnungen mit Bytes (0-255) müssen wieder ein Ergebnis zwischen 0-255 liefern.\n"
          },
          "metadata": {}
        },
        {
          "output_type": "display_data",
          "data": {
            "text/plain": [
              "<IPython.core.display.Markdown object>"
            ],
            "text/markdown": "## Teil 2: Berechnung für den Text 'HELLO'"
          },
          "metadata": {}
        },
        {
          "output_type": "display_data",
          "data": {
            "text/plain": [
              "<IPython.core.display.Markdown object>"
            ],
            "text/markdown": "Wir simulieren einen **QR-Code Version 1 mit Fehler-Level 'M'**."
          },
          "metadata": {}
        },
        {
          "output_type": "display_data",
          "data": {
            "text/plain": [
              "<IPython.core.display.Markdown object>"
            ],
            "text/markdown": "Gemäss Standard hat dieser Code Platz für **16 Daten-Bytes** und benötigt exakt **10 Fehlerkorrektur-Bytes**."
          },
          "metadata": {}
        },
        {
          "output_type": "display_data",
          "data": {
            "text/plain": [
              "<IPython.core.display.Markdown object>"
            ],
            "text/markdown": "### Schritt 1: Nachricht in Bytes umwandeln"
          },
          "metadata": {}
        },
        {
          "output_type": "display_data",
          "data": {
            "text/plain": [
              "<IPython.core.display.Markdown object>"
            ],
            "text/markdown": "'MAT2'  => `[77, 65, 84, 50]`"
          },
          "metadata": {}
        },
        {
          "output_type": "display_data",
          "data": {
            "text/plain": [
              "<IPython.core.display.Markdown object>"
            ],
            "text/markdown": "### Schritt 1.5: Füll-Bytes (Padding) hinzufügen"
          },
          "metadata": {}
        },
        {
          "output_type": "display_data",
          "data": {
            "text/plain": [
              "<IPython.core.display.Markdown object>"
            ],
            "text/markdown": "Der Code hat Platz für **16** Daten-Bytes. Unsere Nachricht hat aber nur **4** Bytes."
          },
          "metadata": {}
        },
        {
          "output_type": "display_data",
          "data": {
            "text/plain": [
              "<IPython.core.display.Markdown object>"
            ],
            "text/markdown": "Der leere Platz wird mit standardisierten, abwechselnden Füll-Bytes (236 und 17) aufgefüllt, bis die Kapazität erreicht ist."
          },
          "metadata": {}
        },
        {
          "output_type": "display_data",
          "data": {
            "text/plain": [
              "<IPython.core.display.Markdown object>"
            ],
            "text/markdown": "Benötigte Füll-Bytes: 12 => `[236, 17, 236, 17, 236, 17, 236, 17, 236, 17, 236, 17]`"
          },
          "metadata": {}
        },
        {
          "output_type": "display_data",
          "data": {
            "text/plain": [
              "<IPython.core.display.Markdown object>"
            ],
            "text/markdown": "**Voller Datenblock (Nachricht + Padding):** `[77, 65, 84, 50, 236, 17, 236, 17, 236, 17, 236, 17, 236, 17, 236, 17]`"
          },
          "metadata": {}
        },
        {
          "output_type": "display_data",
          "data": {
            "text/plain": [
              "<IPython.core.display.Markdown object>"
            ],
            "text/markdown": "### Schritt 2: Das genormte Generatorpolynom laden"
          },
          "metadata": {}
        },
        {
          "output_type": "display_data",
          "data": {
            "text/plain": [
              "<IPython.core.display.Markdown object>"
            ],
            "text/markdown": "Für **10** Fehlerkorrektur-Bytes ist folgendes Generatorpolynom im Standard definiert:"
          },
          "metadata": {}
        },
        {
          "output_type": "display_data",
          "data": {
            "text/plain": [
              "<IPython.core.display.Markdown object>"
            ],
            "text/markdown": "`[1, 216, 194, 159, 111, 199, 94, 95, 113, 157, 193]`"
          },
          "metadata": {}
        },
        {
          "output_type": "display_data",
          "data": {
            "text/plain": [
              "<IPython.core.display.Markdown object>"
            ],
            "text/markdown": "### Schritt 3: Nachricht für die Division vorbereiten"
          },
          "metadata": {}
        },
        {
          "output_type": "display_data",
          "data": {
            "text/plain": [
              "<IPython.core.display.Markdown object>"
            ],
            "text/markdown": "Wir hängen 10 Nullen an unseren **vollen Datenblock** an, um Platz für den Rest zu schaffen."
          },
          "metadata": {}
        },
        {
          "output_type": "display_data",
          "data": {
            "text/plain": [
              "<IPython.core.display.Markdown object>"
            ],
            "text/markdown": "Vorbereitete Nachricht: `[77, 65, 84, 50, 236, 17, 236, 17, 236, 17, 236, 17, 236, 17, 236, 17, 0, 0, 0, 0, 0, 0, 0, 0, 0, 0]`"
          },
          "metadata": {}
        },
        {
          "output_type": "display_data",
          "data": {
            "text/plain": [
              "<IPython.core.display.Markdown object>"
            ],
            "text/markdown": "### Schritt 4: Die Polynomdivision"
          },
          "metadata": {}
        },
        {
          "output_type": "display_data",
          "data": {
            "text/plain": [
              "<IPython.core.display.Markdown object>"
            ],
            "text/markdown": "Jetzt teilen wir den vorbereiteten, vollen Datenblock durch das Generatorpolynom."
          },
          "metadata": {}
        },
        {
          "output_type": "display_data",
          "data": {
            "text/plain": [
              "<IPython.core.display.Markdown object>"
            ],
            "text/markdown": "--- \n**Division beendet.**"
          },
          "metadata": {}
        },
        {
          "output_type": "display_data",
          "data": {
            "text/plain": [
              "<IPython.core.display.Markdown object>"
            ],
            "text/markdown": "### Schritt 5: Das Ergebnis"
          },
          "metadata": {}
        },
        {
          "output_type": "display_data",
          "data": {
            "text/plain": [
              "<IPython.core.display.Markdown object>"
            ],
            "text/markdown": "Der **Rest** der Division ist `[216, 69, 231, 124, 188, 170, 91, 236, 61, 240]`."
          },
          "metadata": {}
        },
        {
          "output_type": "display_data",
          "data": {
            "text/plain": [
              "<IPython.core.display.Markdown object>"
            ],
            "text/markdown": "**Das sind unsere 10 Fehlerkorrektur-Bytes!**"
          },
          "metadata": {}
        },
        {
          "output_type": "display_data",
          "data": {
            "text/plain": [
              "<IPython.core.display.Markdown object>"
            ],
            "text/markdown": "### Schritt 6: Die finale Nachricht für den QR-Code"
          },
          "metadata": {}
        },
        {
          "output_type": "display_data",
          "data": {
            "text/plain": [
              "<IPython.core.display.Markdown object>"
            ],
            "text/markdown": "Der volle Datenblock und die Fehlerkorrektur-Bytes werden zusammengefügt."
          },
          "metadata": {}
        },
        {
          "output_type": "display_data",
          "data": {
            "text/plain": [
              "<IPython.core.display.Markdown object>"
            ],
            "text/markdown": "**Finale Codewörter:** `[77, 65, 84, 50, 236, 17, 236, 17, 236, 17, 236, 17, 236, 17, 236, 17, 216, 69, 231, 124, 188, 170, 91, 236, 61, 240]`"
          },
          "metadata": {}
        },
        {
          "output_type": "display_data",
          "data": {
            "text/plain": [
              "<IPython.core.display.Markdown object>"
            ],
            "text/markdown": "## Teil 3: Vom Byte zum Bild (Vereinfachte Visualisierung)"
          },
          "metadata": {}
        },
        {
          "output_type": "display_data",
          "data": {
            "text/plain": [
              "<IPython.core.display.Markdown object>"
            ],
            "text/markdown": "\nWir wandeln jedes Byte in seine 8-Bit-Darstellung um und zeichnen für jede '1' ein farbiges Kästchen.\n\n**Wichtiger Hinweis:** Dies ist **kein scannbarer QR-Code!** Es ist nur eine simple Darstellung der reinen Daten.\n"
          },
          "metadata": {}
        },
        {
          "output_type": "display_data",
          "data": {
            "text/plain": [
              "<IPython.core.display.Markdown object>"
            ],
            "text/markdown": "### Schritt 7: Codewörter in Bits umwandeln"
          },
          "metadata": {}
        },
        {
          "output_type": "display_data",
          "data": {
            "text/plain": [
              "<IPython.core.display.Markdown object>"
            ],
            "text/markdown": "Die 26 Bytes werden zu einem langen String aus 208 Bits:"
          },
          "metadata": {}
        },
        {
          "output_type": "display_data",
          "data": {
            "text/plain": [
              "<IPython.core.display.Markdown object>"
            ],
            "text/markdown": "<div style='word-wrap:break-word; font-family:monospace; font-size:12px;'>0100110101000001010101000011001011101100000100011110110000010001111011000001000111101100000100011110110000010001111011000001000111011000010001011110011101111100101111001010101001011011111011000011110111110000</div>"
          },
          "metadata": {}
        },
        {
          "output_type": "display_data",
          "data": {
            "text/plain": [
              "<IPython.core.display.Markdown object>"
            ],
            "text/markdown": "### Schritt 8: Die Bits als Gitter darstellen (Daten, Padding, Fehlerkorrektur)"
          },
          "metadata": {}
        },
        {
          "output_type": "display_data",
          "data": {
            "text/plain": [
              "<IPython.core.display.HTML object>"
            ],
            "text/html": [
              "\n",
              "<div style=\"margin-top: 15px; margin-bottom: 5px;\">\n",
              "    <b>Legende:</b>\n",
              "    <span style=\"display:inline-flex; align-items:center; margin-left:10px;\"><div style=\"width:15px; height:15px; background-color:black; border:1px solid #ccc; margin-right:5px;\"></div> Original-Daten (1)</span>\n",
              "    <span style=\"display:inline-flex; align-items:center; margin-left:10px;\"><div style=\"width:15px; height:15px; background-color:silver; border:1px solid #ccc; margin-right:5px;\"></div> Füll-Daten (1)</span>\n",
              "    <span style=\"display:inline-flex; align-items:center; margin-left:10px;\"><div style=\"width:15px; height:15px; background-color:crimson; border:1px solid #ccc; margin-right:5px;\"></div> Fehlerkorrektur-Bit (1)</span>\n",
              "    <span style=\"display:inline-flex; align-items:center; margin-left:10px;\"><div style=\"width:15px; height:15px; background-color:white; border:1px solid #ccc; margin-right:5px;\"></div> 0-Bit</span>\n",
              "</div>\n"
            ]
          },
          "metadata": {}
        },
        {
          "output_type": "display_data",
          "data": {
            "text/plain": [
              "<IPython.core.display.HTML object>"
            ],
            "text/html": [
              "<div style='display: grid; grid-template-columns: repeat(8, 20px); gap: 1px; border: 2px solid #333; width: fit-content; margin-top: 10px;'><div style='width: 20px; height: 20px; background-color: white;'></div><div style='width: 20px; height: 20px; background-color: black;'></div><div style='width: 20px; height: 20px; background-color: white;'></div><div style='width: 20px; height: 20px; background-color: white;'></div><div style='width: 20px; height: 20px; background-color: black;'></div><div style='width: 20px; height: 20px; background-color: black;'></div><div style='width: 20px; height: 20px; background-color: white;'></div><div style='width: 20px; height: 20px; background-color: black;'></div><div style='width: 20px; height: 20px; background-color: white;'></div><div style='width: 20px; height: 20px; background-color: black;'></div><div style='width: 20px; height: 20px; background-color: white;'></div><div style='width: 20px; height: 20px; background-color: white;'></div><div style='width: 20px; height: 20px; background-color: white;'></div><div style='width: 20px; height: 20px; background-color: white;'></div><div style='width: 20px; height: 20px; background-color: white;'></div><div style='width: 20px; height: 20px; background-color: black;'></div><div style='width: 20px; height: 20px; background-color: white;'></div><div style='width: 20px; height: 20px; background-color: black;'></div><div style='width: 20px; height: 20px; background-color: white;'></div><div style='width: 20px; height: 20px; background-color: black;'></div><div style='width: 20px; height: 20px; background-color: white;'></div><div style='width: 20px; height: 20px; background-color: black;'></div><div style='width: 20px; height: 20px; background-color: white;'></div><div style='width: 20px; height: 20px; background-color: white;'></div><div style='width: 20px; height: 20px; background-color: white;'></div><div style='width: 20px; height: 20px; background-color: white;'></div><div style='width: 20px; height: 20px; background-color: black;'></div><div style='width: 20px; height: 20px; background-color: black;'></div><div style='width: 20px; height: 20px; background-color: white;'></div><div style='width: 20px; height: 20px; background-color: white;'></div><div style='width: 20px; height: 20px; background-color: black;'></div><div style='width: 20px; height: 20px; background-color: white;'></div><div style='width: 20px; height: 20px; background-color: silver;'></div><div style='width: 20px; height: 20px; background-color: silver;'></div><div style='width: 20px; height: 20px; background-color: silver;'></div><div style='width: 20px; height: 20px; background-color: white;'></div><div style='width: 20px; height: 20px; background-color: silver;'></div><div style='width: 20px; height: 20px; background-color: silver;'></div><div style='width: 20px; height: 20px; background-color: white;'></div><div style='width: 20px; height: 20px; background-color: white;'></div><div style='width: 20px; height: 20px; background-color: white;'></div><div style='width: 20px; height: 20px; background-color: white;'></div><div style='width: 20px; height: 20px; background-color: white;'></div><div style='width: 20px; height: 20px; background-color: silver;'></div><div style='width: 20px; height: 20px; background-color: white;'></div><div style='width: 20px; height: 20px; background-color: white;'></div><div style='width: 20px; height: 20px; background-color: white;'></div><div style='width: 20px; height: 20px; background-color: silver;'></div><div style='width: 20px; height: 20px; background-color: silver;'></div><div style='width: 20px; height: 20px; background-color: silver;'></div><div style='width: 20px; height: 20px; background-color: silver;'></div><div style='width: 20px; height: 20px; background-color: white;'></div><div style='width: 20px; height: 20px; background-color: silver;'></div><div style='width: 20px; height: 20px; background-color: silver;'></div><div style='width: 20px; height: 20px; background-color: white;'></div><div style='width: 20px; height: 20px; background-color: white;'></div><div style='width: 20px; height: 20px; background-color: white;'></div><div style='width: 20px; height: 20px; background-color: white;'></div><div style='width: 20px; height: 20px; background-color: white;'></div><div style='width: 20px; height: 20px; background-color: silver;'></div><div style='width: 20px; height: 20px; background-color: white;'></div><div style='width: 20px; height: 20px; background-color: white;'></div><div style='width: 20px; height: 20px; background-color: white;'></div><div style='width: 20px; height: 20px; background-color: silver;'></div><div style='width: 20px; height: 20px; background-color: silver;'></div><div style='width: 20px; height: 20px; background-color: silver;'></div><div style='width: 20px; height: 20px; background-color: silver;'></div><div style='width: 20px; height: 20px; background-color: white;'></div><div style='width: 20px; height: 20px; background-color: silver;'></div><div style='width: 20px; height: 20px; background-color: silver;'></div><div style='width: 20px; height: 20px; background-color: white;'></div><div style='width: 20px; height: 20px; background-color: white;'></div><div style='width: 20px; height: 20px; background-color: white;'></div><div style='width: 20px; height: 20px; background-color: white;'></div><div style='width: 20px; height: 20px; background-color: white;'></div><div style='width: 20px; height: 20px; background-color: silver;'></div><div style='width: 20px; height: 20px; background-color: white;'></div><div style='width: 20px; height: 20px; background-color: white;'></div><div style='width: 20px; height: 20px; background-color: white;'></div><div style='width: 20px; height: 20px; background-color: silver;'></div><div style='width: 20px; height: 20px; background-color: silver;'></div><div style='width: 20px; height: 20px; background-color: silver;'></div><div style='width: 20px; height: 20px; background-color: silver;'></div><div style='width: 20px; height: 20px; background-color: white;'></div><div style='width: 20px; height: 20px; background-color: silver;'></div><div style='width: 20px; height: 20px; background-color: silver;'></div><div style='width: 20px; height: 20px; background-color: white;'></div><div style='width: 20px; height: 20px; background-color: white;'></div><div style='width: 20px; height: 20px; background-color: white;'></div><div style='width: 20px; height: 20px; background-color: white;'></div><div style='width: 20px; height: 20px; background-color: white;'></div><div style='width: 20px; height: 20px; background-color: silver;'></div><div style='width: 20px; height: 20px; background-color: white;'></div><div style='width: 20px; height: 20px; background-color: white;'></div><div style='width: 20px; height: 20px; background-color: white;'></div><div style='width: 20px; height: 20px; background-color: silver;'></div><div style='width: 20px; height: 20px; background-color: silver;'></div><div style='width: 20px; height: 20px; background-color: silver;'></div><div style='width: 20px; height: 20px; background-color: silver;'></div><div style='width: 20px; height: 20px; background-color: white;'></div><div style='width: 20px; height: 20px; background-color: silver;'></div><div style='width: 20px; height: 20px; background-color: silver;'></div><div style='width: 20px; height: 20px; background-color: white;'></div><div style='width: 20px; height: 20px; background-color: white;'></div><div style='width: 20px; height: 20px; background-color: white;'></div><div style='width: 20px; height: 20px; background-color: white;'></div><div style='width: 20px; height: 20px; background-color: white;'></div><div style='width: 20px; height: 20px; background-color: silver;'></div><div style='width: 20px; height: 20px; background-color: white;'></div><div style='width: 20px; height: 20px; background-color: white;'></div><div style='width: 20px; height: 20px; background-color: white;'></div><div style='width: 20px; height: 20px; background-color: silver;'></div><div style='width: 20px; height: 20px; background-color: silver;'></div><div style='width: 20px; height: 20px; background-color: silver;'></div><div style='width: 20px; height: 20px; background-color: silver;'></div><div style='width: 20px; height: 20px; background-color: white;'></div><div style='width: 20px; height: 20px; background-color: silver;'></div><div style='width: 20px; height: 20px; background-color: silver;'></div><div style='width: 20px; height: 20px; background-color: white;'></div><div style='width: 20px; height: 20px; background-color: white;'></div><div style='width: 20px; height: 20px; background-color: white;'></div><div style='width: 20px; height: 20px; background-color: white;'></div><div style='width: 20px; height: 20px; background-color: white;'></div><div style='width: 20px; height: 20px; background-color: silver;'></div><div style='width: 20px; height: 20px; background-color: white;'></div><div style='width: 20px; height: 20px; background-color: white;'></div><div style='width: 20px; height: 20px; background-color: white;'></div><div style='width: 20px; height: 20px; background-color: silver;'></div><div style='width: 20px; height: 20px; background-color: crimson;'></div><div style='width: 20px; height: 20px; background-color: crimson;'></div><div style='width: 20px; height: 20px; background-color: white;'></div><div style='width: 20px; height: 20px; background-color: crimson;'></div><div style='width: 20px; height: 20px; background-color: crimson;'></div><div style='width: 20px; height: 20px; background-color: white;'></div><div style='width: 20px; height: 20px; background-color: white;'></div><div style='width: 20px; height: 20px; background-color: white;'></div><div style='width: 20px; height: 20px; background-color: white;'></div><div style='width: 20px; height: 20px; background-color: crimson;'></div><div style='width: 20px; height: 20px; background-color: white;'></div><div style='width: 20px; height: 20px; background-color: white;'></div><div style='width: 20px; height: 20px; background-color: white;'></div><div style='width: 20px; height: 20px; background-color: crimson;'></div><div style='width: 20px; height: 20px; background-color: white;'></div><div style='width: 20px; height: 20px; background-color: crimson;'></div><div style='width: 20px; height: 20px; background-color: crimson;'></div><div style='width: 20px; height: 20px; background-color: crimson;'></div><div style='width: 20px; height: 20px; background-color: crimson;'></div><div style='width: 20px; height: 20px; background-color: white;'></div><div style='width: 20px; height: 20px; background-color: white;'></div><div style='width: 20px; height: 20px; background-color: crimson;'></div><div style='width: 20px; height: 20px; background-color: crimson;'></div><div style='width: 20px; height: 20px; background-color: crimson;'></div><div style='width: 20px; height: 20px; background-color: white;'></div><div style='width: 20px; height: 20px; background-color: crimson;'></div><div style='width: 20px; height: 20px; background-color: crimson;'></div><div style='width: 20px; height: 20px; background-color: crimson;'></div><div style='width: 20px; height: 20px; background-color: crimson;'></div><div style='width: 20px; height: 20px; background-color: crimson;'></div><div style='width: 20px; height: 20px; background-color: white;'></div><div style='width: 20px; height: 20px; background-color: white;'></div><div style='width: 20px; height: 20px; background-color: crimson;'></div><div style='width: 20px; height: 20px; background-color: white;'></div><div style='width: 20px; height: 20px; background-color: crimson;'></div><div style='width: 20px; height: 20px; background-color: crimson;'></div><div style='width: 20px; height: 20px; background-color: crimson;'></div><div style='width: 20px; height: 20px; background-color: crimson;'></div><div style='width: 20px; height: 20px; background-color: white;'></div><div style='width: 20px; height: 20px; background-color: white;'></div><div style='width: 20px; height: 20px; background-color: crimson;'></div><div style='width: 20px; height: 20px; background-color: white;'></div><div style='width: 20px; height: 20px; background-color: crimson;'></div><div style='width: 20px; height: 20px; background-color: white;'></div><div style='width: 20px; height: 20px; background-color: crimson;'></div><div style='width: 20px; height: 20px; background-color: white;'></div><div style='width: 20px; height: 20px; background-color: crimson;'></div><div style='width: 20px; height: 20px; background-color: white;'></div><div style='width: 20px; height: 20px; background-color: white;'></div><div style='width: 20px; height: 20px; background-color: crimson;'></div><div style='width: 20px; height: 20px; background-color: white;'></div><div style='width: 20px; height: 20px; background-color: crimson;'></div><div style='width: 20px; height: 20px; background-color: crimson;'></div><div style='width: 20px; height: 20px; background-color: white;'></div><div style='width: 20px; height: 20px; background-color: crimson;'></div><div style='width: 20px; height: 20px; background-color: crimson;'></div><div style='width: 20px; height: 20px; background-color: crimson;'></div><div style='width: 20px; height: 20px; background-color: crimson;'></div><div style='width: 20px; height: 20px; background-color: crimson;'></div><div style='width: 20px; height: 20px; background-color: white;'></div><div style='width: 20px; height: 20px; background-color: crimson;'></div><div style='width: 20px; height: 20px; background-color: crimson;'></div><div style='width: 20px; height: 20px; background-color: white;'></div><div style='width: 20px; height: 20px; background-color: white;'></div><div style='width: 20px; height: 20px; background-color: white;'></div><div style='width: 20px; height: 20px; background-color: white;'></div><div style='width: 20px; height: 20px; background-color: crimson;'></div><div style='width: 20px; height: 20px; background-color: crimson;'></div><div style='width: 20px; height: 20px; background-color: crimson;'></div><div style='width: 20px; height: 20px; background-color: crimson;'></div><div style='width: 20px; height: 20px; background-color: white;'></div><div style='width: 20px; height: 20px; background-color: crimson;'></div><div style='width: 20px; height: 20px; background-color: crimson;'></div><div style='width: 20px; height: 20px; background-color: crimson;'></div><div style='width: 20px; height: 20px; background-color: crimson;'></div><div style='width: 20px; height: 20px; background-color: crimson;'></div><div style='width: 20px; height: 20px; background-color: white;'></div><div style='width: 20px; height: 20px; background-color: white;'></div><div style='width: 20px; height: 20px; background-color: white;'></div><div style='width: 20px; height: 20px; background-color: white;'></div></div>"
            ]
          },
          "metadata": {}
        }
      ],
      "execution_count": 50,
      "metadata": {
        "colab": {
          "base_uri": "https://localhost:8080/",
          "height": 1000
        },
        "id": "LSCCUTbLfI_P",
        "outputId": "de797906-5348-4af1-fa8c-1fb7d5ffbc4f"
      }
    },
    {
      "cell_type": "code",
      "source": [
        "# 1. Fehlererkennung: Existiert ein Fehler in den Daten?\n",
        "# 2. Fehlerlokalisierung: An welchen Positionen befinden sich Fehler?\n",
        "# 3. Datenkorrektur: Die Umkehrung der Fehler, um die Originaldaten wiederherzustellen\n",
        "\n",
        "# 1. Fehlererkennung\n",
        "correct = final_codeword\n",
        "print(\"The correct codeword: \", correct)\n",
        "\n",
        "damaged = correct.copy()\n",
        "\n",
        "def damage(index, damagedValue):\n",
        "    damaged[index] = damagedValue\n",
        "\n",
        "damage(3, 111)\n",
        "\n",
        "print(\"The damaged codeword: \", damaged)\n",
        "\n",
        "for i, (a, b) in enumerate(zip(correct, damaged)):\n",
        "    if a != b:\n",
        "        print(f\"Difference at index {i}: {a} (correct) vs {b} (damaged)\")\n",
        "\n",
        "num_error_bytes = 0\n",
        "\n",
        "if CHOSEN_LEVEL == 'L':\n",
        "    num_error_bytes = 7\n",
        "elif CHOSEN_LEVEL == 'M':\n",
        "    num_error_bytes = 10\n",
        "elif CHOSEN_LEVEL == 'Q':\n",
        "    num_error_bytes = 13\n",
        "elif CHOSEN_LEVEL == 'H':\n",
        "    num_error_bytes = 17\n",
        "\n",
        "def gf_mul(x, y, texp_table, tlog_table):\n",
        "    if x == 0 or y == 0:\n",
        "        return 0\n",
        "    return texp_table[(tlog_table[x] + tlog_table[y]) % 255]\n",
        "\n",
        "def poly_eval(poly, x, texp_table, tlog_table):\n",
        "    result = 0\n",
        "    for coeff in poly:\n",
        "        result = gf_mul(result, x, texp_table, tlog_table) ^ coeff\n",
        "    return result\n",
        "\n",
        "def compute_syndromes(dmged, num_error_bytes):\n",
        "    syndromes = []\n",
        "    poly = list(dmged)\n",
        "    for i in range(num_error_bytes):\n",
        "        x = exp_table[i]\n",
        "        val = poly_eval(poly, x, exp_table, log_table)\n",
        "        syndromes.append(val)\n",
        "    return syndromes\n",
        "\n",
        "syndromes = compute_syndromes(damaged, num_error_bytes)\n",
        "print(\"Syndrome:\", syndromes)\n"
      ],
      "metadata": {
        "colab": {
          "base_uri": "https://localhost:8080/"
        },
        "id": "cu-l13txp84Z",
        "outputId": "ed87f8c1-1c0e-4d60-ba70-3fc8afa46be0"
      },
      "execution_count": 58,
      "outputs": [
        {
          "output_type": "stream",
          "name": "stdout",
          "text": [
            "The correct codeword:  [77, 65, 84, 50, 236, 17, 236, 17, 236, 17, 236, 17, 236, 17, 236, 17, 216, 69, 231, 124, 188, 170, 91, 236, 61, 240]\n",
            "The damaged codeword:  [77, 65, 84, 111, 236, 17, 236, 17, 236, 17, 236, 17, 236, 17, 236, 17, 216, 69, 231, 124, 188, 170, 91, 236, 61, 240]\n",
            "Difference at index 3: 50 (correct) vs 111 (damaged)\n",
            "Syndrome: [93, 120, 17, 236, 168, 63, 165, 89, 247, 142]\n"
          ]
        }
      ]
    },
    {
      "cell_type": "code",
      "source": [
        "# 2. Fehlerlokalisierung\n",
        "def berlekamp_massey(syndromes, exp_table, log_table):\n",
        "    n = len(syndromes)\n",
        "    C = [1] + [0] * n\n",
        "    B = [1] + [0] * n\n",
        "    L = 0\n",
        "    m = 1\n",
        "    b = 1\n",
        "    for n_idx in range(n):\n",
        "        d = syndromes[n_idx]\n",
        "        for i in range(1, L + 1):\n",
        "            d ^= gf_mul(C[i], syndromes[n_idx - i], exp_table, log_table)\n",
        "        if d == 0:\n",
        "            m += 1\n",
        "        else:\n",
        "            T = C[:]\n",
        "            factor = gf_mul(d, exp_table[255 - log_table[b]], exp_table, log_table)\n",
        "            for i in range(m, n + 1):\n",
        "                if B[i - m] != 0:\n",
        "                    C[i] ^= gf_mul(factor, B[i - m], exp_table, log_table)\n",
        "            if 2 * L <= n_idx:\n",
        "                L = n_idx + 1 - L\n",
        "                B = T\n",
        "                b = d\n",
        "                m = 1\n",
        "            else:\n",
        "                m += 1\n",
        "    return C[:L+1]\n",
        "\n",
        "# Chien-Suche zur Fehlerpositionsbestimmung\n",
        "def chien_search(locator_poly, code_length, texp_table, tlog_table):\n",
        "    error_positions = []\n",
        "    for i in range(code_length):\n",
        "        x_inv = texp_table[(255 - i) % 255]\n",
        "        result = 0\n",
        "        for j, coef in enumerate(locator_poly):\n",
        "            result ^= gf_mul(coef, texp_table[(tlog_table[x_inv] * j) % 255], texp_table, tlog_table)\n",
        "        if result == 0:\n",
        "            error_positions.append(i)\n",
        "    return error_positions\n",
        "\n",
        "locator_poly = berlekamp_massey(syndromes, exp_table, log_table)\n",
        "print(\"Fehler-Lokalisierer-Polynom Λ(x):\", locator_poly)\n",
        "\n",
        "error_positions = chien_search(locator_poly, len(damaged), exp_table, log_table)\n",
        "print(\"Fehlerhafte Koeffizienten (Potenzen): \", error_positions)\n",
        "\n",
        "error_indices = []\n",
        "\n",
        "for position in error_positions:\n",
        "    index = len(damaged) - 1 - position\n",
        "    error_indices.append(index)\n",
        "\n",
        "error_indices.sort()\n",
        "\n",
        "print(\"Fehlerhafte Indizes: \", error_indices)"
      ],
      "metadata": {
        "colab": {
          "base_uri": "https://localhost:8080/"
        },
        "id": "fcwwD5deOh3s",
        "outputId": "869eb865-1296-4d81-885b-9d772570f94e"
      },
      "execution_count": 59,
      "outputs": [
        {
          "output_type": "stream",
          "name": "stdout",
          "text": [
            "Fehler-Lokalisierer-Polynom Λ(x): [1, 234]\n",
            "Fehlerhafte Koeffizienten (Potenzen):  [22]\n",
            "Fehlerhafte Indizes:  [3]\n"
          ]
        }
      ]
    },
    {
      "cell_type": "code",
      "source": [
        "# 3. Fehlerkorrektur\n",
        "\n",
        "# 1. Fehler-Auswerter-Polynom Ω(x) (Omega) berechnen\n",
        "syndromes_poly = syndromes[:]\n",
        "\n",
        "num_errors = len(locator_poly) - 1\n",
        "\n",
        "# Polynom-Multiplikation durchführen UND auf den richtigen Grad kürzen\n",
        "omega_full = gf_poly_multiply(syndromes_poly, locator_poly)\n",
        "omega_poly = omega_full[:num_errors]\n",
        "\n",
        "print(\"Fehler-Auswerter-Polynom Ω(x):\", omega_poly)\n",
        "\n",
        "# 2. Ableitung von Λ'(x) (Lambda) berechnen\n",
        "lambda_derivative = []\n",
        "\n",
        "n = len(locator_poly) - 1\n",
        "for i in range(n + 1): # Korrigiert auf n+1, um alle Koeffizienten zu berücksichtigen\n",
        "    if i % 2 == 1: # Koeffizienten ungerader Potenzen\n",
        "        lambda_derivative.append(locator_poly[n-i])\n",
        "# In unserem Fall (Λ(x) = x + 201) ist die Ableitung Λ'(x) = 1.\n",
        "\n",
        "print(\"Ableitung Λ'(x) (korrigiert):\", lambda_derivative)\n",
        "\n",
        "# 3. Fehlerwerte (Magnituden) für jeden Index berechnen\n",
        "error_magnitudes = []\n",
        "codeword_length = len(damaged)\n",
        "\n",
        "for index in error_indices:\n",
        "    position = index\n",
        "    field_position = codeword_length - 1 - position  # Chien-Suchposition\n",
        "    x_inv = exp_table[255 - field_position]\n",
        "\n",
        "    omega_val = poly_eval(omega_poly, x_inv, exp_table, log_table)\n",
        "    lambda_prime_val = poly_eval(lambda_derivative, x_inv, exp_table, log_table)\n",
        "    lambda_prime_inv = exp_table[255 - log_table[lambda_prime_val]]\n",
        "\n",
        "    magnitude = gf_multiply(omega_val, lambda_prime_inv)\n",
        "    error_magnitudes.append(magnitude)\n",
        "\n",
        "\n",
        "# 4. Fehler korrigieren\n",
        "corrected_codeword = damaged.copy()\n",
        "for i in range(len(error_indices)):\n",
        "    index = error_indices[i]\n",
        "    position = index  # tatsächlicher Byteindex\n",
        "    field_position = codeword_length - 1 - position\n",
        "    x_inv = exp_table[255 - field_position]\n",
        "    omega_val = poly_eval(omega_poly, x_inv, exp_table, log_table)\n",
        "    lambda_prime_val = poly_eval(lambda_derivative, x_inv, exp_table, log_table)\n",
        "\n",
        "    magnitude = error_magnitudes[i]\n",
        "    before = damaged[index]\n",
        "    corrected_codeword[index] ^= magnitude\n",
        "    after = corrected_codeword[index]\n",
        "\n",
        "    print(f\"\\nFehler an Byte-Index {index}:\")\n",
        "    print(f\"  → Feldposition (für x⁻¹): {field_position}\")\n",
        "    print(f\"  → x_inv (α^−pos): {x_inv}\")\n",
        "    print(f\"  → Ω(x_inv): {omega_val}\")\n",
        "    print(f\"  → Λ'(x_inv): {lambda_prime_val}\")\n",
        "    print(f\"  → Fehlerwert = {magnitude}, XOR: {before} ^ {magnitude} = {after}\")\n",
        "\n",
        "# Überprüfung:\n",
        "print(\"\\nOriginales, korrektes Codewort: \", correct)\n",
        "print(\"Beschädigtes Codewort:        : \", damaged)\n",
        "print(\"Wiederhergestelltes Codewort  : \", corrected_codeword)\n",
        "\n",
        "\n",
        "\n",
        "if corrected_codeword == correct:\n",
        "    print(\"\\nKorrektur ERFOLGREICH!\")\n",
        "else:\n",
        "    print(\"\\nKorrektur FEHLGESCHLAGEN!\")"
      ],
      "metadata": {
        "colab": {
          "base_uri": "https://localhost:8080/"
        },
        "id": "dwGWxcWnJlMq",
        "outputId": "2aa18a95-9c53-43ee-e74f-902f6986c9c7"
      },
      "execution_count": 57,
      "outputs": [
        {
          "output_type": "stream",
          "name": "stdout",
          "text": [
            "Fehler-Auswerter-Polynom Ω(x): [93]\n",
            "Ableitung Λ'(x) (korrigiert): [1]\n",
            "\n",
            "Fehler an Byte-Index 3:\n",
            "  → Feldposition (für x⁻¹): 22\n",
            "  → x_inv (α^−pos): 243\n",
            "  → Ω(x_inv): 93\n",
            "  → Λ'(x_inv): 1\n",
            "  → Fehlerwert = 93, XOR: 111 ^ 93 = 50\n",
            "\n",
            "Originales, korrektes Codewort:  [77, 65, 84, 50, 236, 17, 236, 17, 236, 17, 236, 17, 236, 17, 236, 17, 216, 69, 231, 124, 188, 170, 91, 236, 61, 240]\n",
            "Beschädigtes Codewort:        :  [77, 65, 84, 111, 236, 17, 236, 17, 236, 17, 236, 17, 236, 17, 236, 17, 216, 69, 231, 124, 188, 170, 91, 236, 61, 240]\n",
            "Wiederhergestelltes Codewort  :  [77, 65, 84, 50, 236, 17, 236, 17, 236, 17, 236, 17, 236, 17, 236, 17, 216, 69, 231, 124, 188, 170, 91, 236, 61, 240]\n",
            "\n",
            "Korrektur ERFOLGREICH!\n"
          ]
        }
      ]
    },
    {
      "cell_type": "code",
      "source": [],
      "metadata": {
        "id": "Nwcx-gUi5_4Y"
      },
      "execution_count": 49,
      "outputs": []
    }
  ],
  "metadata": {
    "colab": {
      "provenance": []
    },
    "kernelspec": {
      "display_name": "Python 3",
      "name": "python3"
    }
  },
  "nbformat": 4,
  "nbformat_minor": 0
}